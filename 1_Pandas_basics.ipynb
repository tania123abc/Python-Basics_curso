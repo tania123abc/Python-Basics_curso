{
  "nbformat": 4,
  "nbformat_minor": 0,
  "metadata": {
    "colab": {
      "provenance": [],
      "include_colab_link": true
    },
    "kernelspec": {
      "name": "python3",
      "display_name": "Python 3"
    },
    "language_info": {
      "name": "python"
    }
  },
  "cells": [
    {
      "cell_type": "markdown",
      "metadata": {
        "id": "view-in-github",
        "colab_type": "text"
      },
      "source": [
        "<a href=\"https://colab.research.google.com/github/tania123abc/Python-Basics_curso/blob/main/1_Pandas_basics.ipynb\" target=\"_parent\"><img src=\"https://colab.research.google.com/assets/colab-badge.svg\" alt=\"Open In Colab\"/></a>"
      ]
    },
    {
      "cell_type": "code",
      "source": [
        "import pandas as pd\n",
        "import numpy as np"
      ],
      "metadata": {
        "id": "PgJNxnjIX1-m"
      },
      "execution_count": null,
      "outputs": []
    },
    {
      "cell_type": "code",
      "source": [
        "paises_lista = [\"Argentina\", \"Bélgica\", \"Finlandia\", \"Chile\", \"México\"]"
      ],
      "metadata": {
        "id": "HHTw6KjjvVfy"
      },
      "execution_count": null,
      "outputs": []
    },
    {
      "cell_type": "code",
      "source": [
        "pd.Series"
      ],
      "metadata": {
        "id": "bO9BKHNQvUDB"
      },
      "execution_count": null,
      "outputs": []
    },
    {
      "cell_type": "code",
      "source": [
        "pd.DataFrame"
      ],
      "metadata": {
        "id": "xlAUutanvaVs"
      },
      "execution_count": null,
      "outputs": []
    },
    {
      "cell_type": "code",
      "source": [
        "paises = pd.Series(paises_lista)"
      ],
      "metadata": {
        "id": "Ultte_bEvRFg"
      },
      "execution_count": null,
      "outputs": []
    },
    {
      "cell_type": "code",
      "source": [
        "print(paises)"
      ],
      "metadata": {
        "id": "g_mJ-TZdWb0m"
      },
      "execution_count": null,
      "outputs": []
    },
    {
      "cell_type": "code",
      "source": [
        "paises"
      ],
      "metadata": {
        "id": "0OzLG0JdwjqL"
      },
      "execution_count": null,
      "outputs": []
    },
    {
      "cell_type": "code",
      "source": [
        "df_paises = pd.DataFrame(paises)"
      ],
      "metadata": {
        "id": "jJ0F4u3qwk6Q"
      },
      "execution_count": null,
      "outputs": []
    },
    {
      "cell_type": "code",
      "source": [
        "df_paises"
      ],
      "metadata": {
        "id": "_726D5K5wqo6"
      },
      "execution_count": null,
      "outputs": []
    },
    {
      "cell_type": "code",
      "source": [
        "df_paises.columns = ['pais']"
      ],
      "metadata": {
        "id": "BwxrfXiOLV-h"
      },
      "execution_count": null,
      "outputs": []
    },
    {
      "cell_type": "code",
      "source": [
        "df_paises"
      ],
      "metadata": {
        "id": "fPaqaE7ALdTZ"
      },
      "execution_count": null,
      "outputs": []
    },
    {
      "cell_type": "code",
      "source": [
        "df_paises.columns"
      ],
      "metadata": {
        "id": "zVsJA5zuLa3S"
      },
      "execution_count": null,
      "outputs": []
    },
    {
      "cell_type": "code",
      "source": [
        "df2 = pd.DataFrame(\n",
        "    {\n",
        "        \"A\": 1.0, # flotante\n",
        "        \"B\": pd.Timestamp(\"20130102\"), # datetime64\n",
        "        \"C\": pd.Series(1, index=list(range(4)), dtype=\"float32\"),\n",
        "        \"D\": np.array([3] * 4, dtype=\"int32\"),\n",
        "        \"E\": pd.Categorical([\"test\", \"train\", \"test\", \"train\"]),\n",
        "        \"F\": \"foo\", # string\n",
        "    }\n",
        ")"
      ],
      "metadata": {
        "id": "_2w0ZtTbLfi7"
      },
      "execution_count": null,
      "outputs": []
    },
    {
      "cell_type": "code",
      "source": [
        "df2"
      ],
      "metadata": {
        "id": "RT1aIZ0xLvaN"
      },
      "execution_count": null,
      "outputs": []
    },
    {
      "cell_type": "code",
      "source": [
        "df2.info()"
      ],
      "metadata": {
        "id": "-znSxlhdL-4C"
      },
      "execution_count": null,
      "outputs": []
    },
    {
      "cell_type": "code",
      "source": [
        "countries_dict = {\n",
        "    \"pais\": [\"Argentina\", \"Bélgica\", \"Finlandia\", \"Chile\", \"México\"],\n",
        "    \"capital\": [\"Buenos Aires\", \"Brusela\", \"Helsinki\", \"Santiago\", \"CDMX\"],\n",
        "    'continente': ['América', 'Europa', 'Europa', 'América', 'América' ],\n",
        "    \"area\": [8.516, 17.10, 3.286, 9.597, 1.221],\n",
        "    \"poblacion\": [200.4, 143.5, 125.2, 135.7, 52.98]\n",
        "    }\n",
        "\n",
        "countries_dict"
      ],
      "metadata": {
        "id": "wlFH272-yoLr"
      },
      "execution_count": null,
      "outputs": []
    },
    {
      "cell_type": "code",
      "execution_count": null,
      "metadata": {
        "id": "AlhyCluFXlB7"
      },
      "outputs": [],
      "source": [
        "df = pd.DataFrame(countries_dict)\n",
        "df"
      ]
    },
    {
      "cell_type": "code",
      "source": [
        "df.columns"
      ],
      "metadata": {
        "id": "qTk1vIeEzp5s"
      },
      "execution_count": null,
      "outputs": []
    },
    {
      "cell_type": "code",
      "source": [
        "df.index"
      ],
      "metadata": {
        "id": "_sqOYl5QzrO_"
      },
      "execution_count": null,
      "outputs": []
    },
    {
      "cell_type": "code",
      "source": [
        " # Agregando un indice personalizado\n",
        "\n",
        "df.index = [\"AR\", \"BE\", \"FI\", \"CH\", \"MX\"]\n",
        "\n",
        "df"
      ],
      "metadata": {
        "id": "ueOGlH17X-ae"
      },
      "execution_count": null,
      "outputs": []
    },
    {
      "cell_type": "code",
      "source": [
        "df['pais']"
      ],
      "metadata": {
        "id": "kPeVnCTpdq0P"
      },
      "execution_count": null,
      "outputs": []
    },
    {
      "cell_type": "code",
      "source": [
        "type(df['pais'])"
      ],
      "metadata": {
        "id": "3Dtsrj_JdtFk"
      },
      "execution_count": null,
      "outputs": []
    },
    {
      "cell_type": "code",
      "source": [
        "df[['pais']]"
      ],
      "metadata": {
        "id": "rojHe4cedvbL"
      },
      "execution_count": null,
      "outputs": []
    },
    {
      "cell_type": "code",
      "source": [
        "type(df[['pais']])"
      ],
      "metadata": {
        "id": "qul6nPPsd1KX"
      },
      "execution_count": null,
      "outputs": []
    },
    {
      "cell_type": "code",
      "source": [
        "df['densidad_poblacion'] = df['poblacion'] / df['area']"
      ],
      "metadata": {
        "id": "V2wrM3_5YH9Q"
      },
      "execution_count": null,
      "outputs": []
    },
    {
      "cell_type": "code",
      "source": [
        "df"
      ],
      "metadata": {
        "id": "tKwt3Xk9YZ39"
      },
      "execution_count": null,
      "outputs": []
    },
    {
      "cell_type": "code",
      "source": [
        "df['densidad_poblacion'] = df['densidad_poblacion'].round(0)\n",
        "df"
      ],
      "metadata": {
        "id": "-AuDyvI-Yaqj"
      },
      "execution_count": null,
      "outputs": []
    },
    {
      "cell_type": "code",
      "source": [
        "# Regresa los primeros n filas.\n",
        "# últi para ver la información de la tabla\n",
        "# por default n = 5\n",
        "df.head(n=1)"
      ],
      "metadata": {
        "id": "DtUwxkwWZvT8"
      },
      "execution_count": null,
      "outputs": []
    },
    {
      "cell_type": "code",
      "source": [
        "# nuestra_lista[2:5]\n",
        "df['AR': 'FI']"
      ],
      "metadata": {
        "id": "J8hdgs8PMkPf"
      },
      "execution_count": null,
      "outputs": []
    },
    {
      "cell_type": "code",
      "source": [
        "# .loc se seleccionan por etiquetas\n",
        "# iloc por posición númerica o index\n",
        "\n",
        "df.loc['AR']"
      ],
      "metadata": {
        "id": "Miewws7eMsCB"
      },
      "execution_count": null,
      "outputs": []
    },
    {
      "cell_type": "code",
      "source": [
        "df.iloc[0]"
      ],
      "metadata": {
        "id": "5DVcW1nvNOCa"
      },
      "execution_count": null,
      "outputs": []
    },
    {
      "cell_type": "code",
      "source": [
        "df.loc[['AR', 'MX']]"
      ],
      "metadata": {
        "id": "MwxochQCNBKG"
      },
      "execution_count": null,
      "outputs": []
    },
    {
      "cell_type": "code",
      "source": [
        "df.iloc[[0, 4]]"
      ],
      "metadata": {
        "id": "YlgkJY_JNLxA"
      },
      "execution_count": null,
      "outputs": []
    },
    {
      "cell_type": "code",
      "source": [
        "df_tmp = df.loc[['AR', 'MX']]\n",
        "df_tmp"
      ],
      "metadata": {
        "id": "n5jJLd49tYDs"
      },
      "execution_count": null,
      "outputs": []
    },
    {
      "cell_type": "code",
      "source": [
        "df_tmp['capital']"
      ],
      "metadata": {
        "id": "qKAXjy0steV_"
      },
      "execution_count": null,
      "outputs": []
    },
    {
      "cell_type": "code",
      "source": [
        "df.loc[['AR', 'MX'], ['capital', 'area', 'poblacion']]"
      ],
      "metadata": {
        "id": "2uq7VnfQNakP"
      },
      "execution_count": null,
      "outputs": []
    },
    {
      "cell_type": "code",
      "source": [
        "# Nos regresa estadisticos descriptivos, principalmente\n",
        "# los relacionados con tendencia central, dispersión y\n",
        "# forma de la tabla\n",
        "df.describe()"
      ],
      "metadata": {
        "id": "WOULSwVFZaYW"
      },
      "execution_count": null,
      "outputs": []
    },
    {
      "cell_type": "code",
      "source": [
        "df.sort_values(\"densidad_poblacion\", ascending=False).plot(x='pais', y='densidad_poblacion', kind='bar')"
      ],
      "metadata": {
        "id": "aYqrEhzPz18f"
      },
      "execution_count": null,
      "outputs": []
    },
    {
      "cell_type": "code",
      "source": [
        "df.plot(x='pais', y='densidad_poblacion', kind='bar')"
      ],
      "metadata": {
        "id": "H5WNrf45QWbj"
      },
      "execution_count": null,
      "outputs": []
    }
  ]
}